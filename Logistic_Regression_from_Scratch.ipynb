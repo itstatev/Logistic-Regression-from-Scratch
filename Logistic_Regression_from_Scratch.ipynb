{
 "cells": [
  {
   "cell_type": "code",
   "execution_count": 1,
   "id": "visible-motorcycle",
   "metadata": {},
   "outputs": [],
   "source": [
    "import numpy as np"
   ]
  },
  {
   "cell_type": "code",
   "execution_count": 3,
   "id": "macro-stations",
   "metadata": {},
   "outputs": [],
   "source": [
    "def sigmoid(x):\n",
    "    return 1 / (1 + np.exp(-x))"
   ]
  },
  {
   "cell_type": "code",
   "execution_count": 6,
   "id": "innovative-assessment",
   "metadata": {},
   "outputs": [],
   "source": [
    "class LinearRegression:\n",
    "    def __init__ (self, learning_rate = 0.01, iterations = 100):\n",
    "        self.learning_rate = learning_rate\n",
    "        self.iterations = iterations\n",
    "        self.w = 0\n",
    "        self.b = 0\n",
    "        \n",
    "    def fit(self, X, y):\n",
    "        samples_count, features_count = X.shape\n",
    "        self.w = np.zeros(feature_count)\n",
    "        \n",
    "        for i in range (iterations):\n",
    "            linear_model = np.dot(self.w, X) + self.b  # Building the linear model, based on our weights and bias\n",
    "            pred = sigmoid(linear_model)               # Mapping predicted values to probabilities\n",
    "            \n",
    "            dw = ( 1 / samples_count) * np.dot(X.T, (pred - y))                 # Gradient descent \n",
    "            db = ( 1 / samples_count) * np.sum(pred - X)\n",
    "            \n",
    "            self.w -= self.learning_rate * dw          # Updating the values of w\n",
    "            self.b -= self.learning_rate * db          # Updating the values of b\n",
    "            \n",
    "    def predict(self, X):\n",
    "        linear_model = np.dot(X, self.w) + self.b\n",
    "        pred = sigmoid(linear_model)\n",
    "        pred_class = [1 if i > 0.5 else 0 for i in range(pred)]\n",
    "        return np.array(pred_class) "
   ]
  }
 ],
 "metadata": {
  "kernelspec": {
   "display_name": "Python 3",
   "language": "python",
   "name": "python3"
  },
  "language_info": {
   "codemirror_mode": {
    "name": "ipython",
    "version": 3
   },
   "file_extension": ".py",
   "mimetype": "text/x-python",
   "name": "python",
   "nbconvert_exporter": "python",
   "pygments_lexer": "ipython3",
   "version": "3.9.5"
  }
 },
 "nbformat": 4,
 "nbformat_minor": 5
}
